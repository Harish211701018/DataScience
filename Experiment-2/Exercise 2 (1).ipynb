{
 "cells": [
  {
   "cell_type": "code",
   "execution_count": 4,
   "id": "de67e15f-b774-4d12-9515-0b958a82d4ce",
   "metadata": {},
   "outputs": [
    {
     "name": "stdout",
     "output_type": "stream",
     "text": [
      "  Product_ID Product_Name  Category    Supplier  Purchase_Price  Sale_Price  \\\n",
      "0      P0001       Doodad  Clothing  Supplier D          339.75         NaN   \n",
      "1      P0002    Doohickey  Clothing  Supplier C             NaN      470.14   \n",
      "2      P0003  Thingamajig  Clothing  Supplier B             NaN      460.10   \n",
      "3      P0004    Doohickey  Clothing  Supplier A             NaN         NaN   \n",
      "4      P0005    Doohickey      Toys  Supplier E          228.75       66.71   \n",
      "\n",
      "   Quantity_In_Stock  Reorder_Level  Units_On_Order  Discontinued  \n",
      "0              588.0          292.0           161.0             1  \n",
      "1              348.0          114.0            70.0             1  \n",
      "2              146.0          199.0           163.0             1  \n",
      "3               66.0           13.0           145.0             0  \n",
      "4              903.0          271.0            37.0             1  \n"
     ]
    }
   ],
   "source": [
    "import pandas as pd\n",
    "\n",
    "df = pd.read_csv('inventory_dataset.csv')\n",
    "\n",
    "print(df.head())"
   ]
  },
  {
   "cell_type": "code",
   "execution_count": 18,
   "id": "20d5b673-3d9e-4b9c-ad57-a64cad59e12d",
   "metadata": {},
   "outputs": [
    {
     "name": "stderr",
     "output_type": "stream",
     "text": [
      "C:\\Users\\91733\\AppData\\Local\\Temp\\ipykernel_1540\\1833063481.py:2: FutureWarning: A value is trying to be set on a copy of a DataFrame or Series through chained assignment using an inplace method.\n",
      "The behavior will change in pandas 3.0. This inplace method will never work because the intermediate object on which we are setting values always behaves as a copy.\n",
      "\n",
      "For example, when doing 'df[col].method(value, inplace=True)', try using 'df.method({col: value}, inplace=True)' or df[col] = df[col].method(value) instead, to perform the operation inplace on the original object.\n",
      "\n",
      "\n",
      "  df['Purchase_Price'].fillna(df['Purchase_Price'].median(), inplace=True)\n",
      "C:\\Users\\91733\\AppData\\Local\\Temp\\ipykernel_1540\\1833063481.py:3: FutureWarning: A value is trying to be set on a copy of a DataFrame or Series through chained assignment using an inplace method.\n",
      "The behavior will change in pandas 3.0. This inplace method will never work because the intermediate object on which we are setting values always behaves as a copy.\n",
      "\n",
      "For example, when doing 'df[col].method(value, inplace=True)', try using 'df.method({col: value}, inplace=True)' or df[col] = df[col].method(value) instead, to perform the operation inplace on the original object.\n",
      "\n",
      "\n",
      "  df['Sale_Price'].fillna(df['Sale_Price'].mean(), inplace=True)\n"
     ]
    }
   ],
   "source": [
    "null_columns = df.isnull().sum()\n",
    "df['Purchase_Price'].fillna(df['Purchase_Price'].median(), inplace=True)\n",
    "df['Sale_Price'].fillna(df['Sale_Price'].mean(), inplace=True)\n",
    "df.dropna(inplace=True)\n",
    "null_columns_after = df.isnull().sum()\n"
   ]
  },
  {
   "cell_type": "code",
   "execution_count": 20,
   "id": "84508f43-b5cf-471e-a6bd-8dea42be3327",
   "metadata": {},
   "outputs": [
    {
     "name": "stdout",
     "output_type": "stream",
     "text": [
      "Null values before imputation:\n",
      " Product_ID           0\n",
      "Product_Name         0\n",
      "Category             0\n",
      "Supplier             0\n",
      "Purchase_Price       0\n",
      "Sale_Price           0\n",
      "Quantity_In_Stock    0\n",
      "Reorder_Level        0\n",
      "Units_On_Order       0\n",
      "Discontinued         0\n",
      "dtype: int64\n",
      "Null values after imputation:\n",
      " Product_ID           0\n",
      "Product_Name         0\n",
      "Category             0\n",
      "Supplier             0\n",
      "Purchase_Price       0\n",
      "Sale_Price           0\n",
      "Quantity_In_Stock    0\n",
      "Reorder_Level        0\n",
      "Units_On_Order       0\n",
      "Discontinued         0\n",
      "dtype: int64\n"
     ]
    }
   ],
   "source": [
    "import pandas as pd\n",
    "\n",
    "# Assuming 'df' is your DataFrame\n",
    "\n",
    "# Step 1: Identify columns with null values before imputation\n",
    "null_columns_before = df.isnull().sum()\n",
    "print(\"Null values before imputation:\\n\", null_columns_before)\n",
    "\n",
    "# Step 2: Impute missing values\n",
    "df['Purchase_Price'] = df['Purchase_Price'].fillna(df['Purchase_Price'].median())\n",
    "df['Sale_Price'] = df['Sale_Price'].fillna(df['Sale_Price'].mean())\n",
    "\n",
    "# Step 3: Drop any rows that still contain null values\n",
    "df = df.dropna()\n",
    "\n",
    "# Step 4: Display the columns with null values after imputation\n",
    "null_columns_after = df.isnull().sum()\n",
    "print(\"Null values after imputation:\\n\", null_columns_after)"
   ]
  },
  {
   "cell_type": "code",
   "execution_count": 22,
   "id": "b8363073-f993-4362-ae69-5a08c8eb21d6",
   "metadata": {},
   "outputs": [],
   "source": [
    "df['Purchase_Price'] = df['Purchase_Price'].fillna(df['Purchase_Price'].median())\n",
    "df['Sale_Price'] = df['Sale_Price'].fillna(df['Sale_Price'].mean())\n"
   ]
  },
  {
   "cell_type": "code",
   "execution_count": 24,
   "id": "0a2af841-3aae-4ede-b546-0045a82e78ce",
   "metadata": {},
   "outputs": [],
   "source": [
    "df = df.dropna()\n"
   ]
  },
  {
   "cell_type": "code",
   "execution_count": 26,
   "id": "631c324b-42d5-4a87-907b-d60a707b0bc7",
   "metadata": {},
   "outputs": [],
   "source": [
    "import pandas as pd\n",
    "\n",
    "# Assuming 'df' is your DataFrame\n",
    "# Step 1: Identify outliers in 'Sale_Price' using IQR\n",
    "Q1 = df['Sale_Price'].quantile(0.25)\n",
    "Q3 = df['Sale_Price'].quantile(0.75)\n",
    "IQR = Q3 - Q1\n",
    "\n",
    "lower_bound = Q1 - 1.5 * IQR\n",
    "upper_bound = Q3 + 1.5 * IQR\n",
    "\n",
    "# Remove outliers\n",
    "df = df[(df['Sale_Price'] >= lower_bound) & (df['Sale_Price'] <= upper_bound)]\n",
    "\n",
    "# Step 2: Normalize 'Quantity_In_Stock' using Min-Max scaling\n",
    "df['Quantity_In_Stock'] = (df['Quantity_In_Stock'] - df['Quantity_In_Stock'].min()) / (df['Quantity_In_Stock'].max() - df['Quantity_In_Stock'].min())"
   ]
  },
  {
   "cell_type": "code",
   "execution_count": 28,
   "id": "c82f50cf-3b3e-4583-b802-3659bfa025f1",
   "metadata": {},
   "outputs": [
    {
     "data": {
      "text/plain": [
       "0      0.589178\n",
       "1      0.348697\n",
       "2      0.146293\n",
       "3      0.066132\n",
       "4      0.904810\n",
       "         ...   \n",
       "993    0.832665\n",
       "995    0.186373\n",
       "996    0.497996\n",
       "997    0.441884\n",
       "998    0.129259\n",
       "Name: Quantity_In_Stock, Length: 743, dtype: float64"
      ]
     },
     "execution_count": 28,
     "metadata": {},
     "output_type": "execute_result"
    }
   ],
   "source": [
    "df['Quantity_In_Stock'] "
   ]
  },
  {
   "cell_type": "code",
   "execution_count": 30,
   "id": "bcd99c5e-d0e6-4677-8b53-e47a4a93ff18",
   "metadata": {},
   "outputs": [],
   "source": [
    "df['Quantity_In_Stock'] = df['Quantity_In_Stock'].astype(int)\n",
    "\n",
    "# Step 2: Encode 'Discontinued' column using binary encoding\n",
    "df['Discontinued'] = df['Discontinued'].astype(int)  # Assuming 'Discontinued' is already boolean or can be converted directly\n",
    "\n",
    "# Step 3: Save the cleaned dataset to a new CSV file\n",
    "df.to_csv('cleaned_dataset.csv', index=False)"
   ]
  },
  {
   "cell_type": "code",
   "execution_count": null,
   "id": "4ad25acf-192b-4786-aca5-5bac1ca5662c",
   "metadata": {},
   "outputs": [],
   "source": []
  }
 ],
 "metadata": {
  "kernelspec": {
   "display_name": "Python 3 (ipykernel)",
   "language": "python",
   "name": "python3"
  },
  "language_info": {
   "codemirror_mode": {
    "name": "ipython",
    "version": 3
   },
   "file_extension": ".py",
   "mimetype": "text/x-python",
   "name": "python",
   "nbconvert_exporter": "python",
   "pygments_lexer": "ipython3",
   "version": "3.12.4"
  }
 },
 "nbformat": 4,
 "nbformat_minor": 5
}
