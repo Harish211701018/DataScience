{
 "cells": [
  {
   "cell_type": "code",
   "execution_count": 1,
   "id": "10b925c5-6297-4e6d-9e8c-57e5cfdaf4c4",
   "metadata": {},
   "outputs": [],
   "source": [
    "import pandas as pd"
   ]
  },
  {
   "cell_type": "code",
   "execution_count": 2,
   "id": "88f66eb9-5ad5-4bd4-b36a-9bf3c8b8c5a7",
   "metadata": {},
   "outputs": [],
   "source": [
    "data = {\n",
    "    'EmployeeID': [101, 102, 103, 104, 105],\n",
    "    'Name': ['Alice', 'Bob', 'Charlie', 'David', 'Eva'],\n",
    "    'Department': ['HR', 'IT', 'Finance', 'IT', 'HR'],\n",
    "    'Salary': [50000, 60000, 55000, 65000, 58000]\n",
    "}"
   ]
  },
  {
   "cell_type": "code",
   "execution_count": 3,
   "id": "30eb279d-973d-4f4f-a6da-ddd426ae15e6",
   "metadata": {},
   "outputs": [],
   "source": [
    "Employee_data = pd.DataFrame(data)"
   ]
  },
  {
   "cell_type": "code",
   "execution_count": 4,
   "id": "1405ba1b-cf1b-4d19-966d-e61e77595aaf",
   "metadata": {
    "scrolled": true
   },
   "outputs": [
    {
     "name": "stdout",
     "output_type": "stream",
     "text": [
      "      Name  Salary\n",
      "0    Alice   50000\n",
      "1      Bob   60000\n",
      "2  Charlie   55000\n",
      "3    David   65000\n",
      "4      Eva   58000\n"
     ]
    }
   ],
   "source": [
    "print(Employee_data[['Name', 'Salary']])"
   ]
  },
  {
   "cell_type": "code",
   "execution_count": 5,
   "id": "b4e10c28-a635-4c76-9798-62c380991cb7",
   "metadata": {},
   "outputs": [
    {
     "name": "stdout",
     "output_type": "stream",
     "text": [
      "Average salary in IT department: 62500.0\n"
     ]
    }
   ],
   "source": [
    "average_salary_it = Employee_data[Employee_data['Department'] == 'IT']['Salary'].mean()\n",
    "print(f\"Average salary in IT department: {average_salary_it}\")"
   ]
  },
  {
   "cell_type": "code",
   "execution_count": 6,
   "id": "b38007d0-df9d-4497-8a60-8a2d1e806ea5",
   "metadata": {
    "scrolled": true
   },
   "outputs": [
    {
     "name": "stdout",
     "output_type": "stream",
     "text": [
      "   EmployeeID     Name Department  Salary   Bonus\n",
      "0         101    Alice         HR   50000  5000.0\n",
      "1         102      Bob         IT   60000  6000.0\n",
      "2         103  Charlie    Finance   55000  5500.0\n",
      "3         104    David         IT   65000  6500.0\n",
      "4         105      Eva         HR   58000  5800.0\n"
     ]
    }
   ],
   "source": [
    "Employee_data['Bonus'] = Employee_data['Salary'] * 0.10\n",
    "print(Employee_data)"
   ]
  },
  {
   "cell_type": "code",
   "execution_count": 8,
   "id": "c3b373e9-1ce8-4c5c-b0ed-989cc63a4d19",
   "metadata": {},
   "outputs": [
    {
     "name": "stdout",
     "output_type": "stream",
     "text": [
      "    ID     Name Department  Salary   Bonus\n",
      "0  101    Alice         HR   50000  5000.0\n",
      "1  102      Bob         IT   60000  6000.0\n",
      "2  103  Charlie    Finance   55000  5500.0\n",
      "3  104    David         IT   65000  6500.0\n",
      "4  105      Eva         HR   58000  5800.0\n"
     ]
    }
   ],
   "source": [
    "Employee_data.rename(columns={'EmployeeID': 'ID'}, inplace=True)\n",
    "print(Employee_data)"
   ]
  },
  {
   "cell_type": "code",
   "execution_count": 9,
   "id": "001f9574-71ad-4537-a9dc-718ad1cbdd02",
   "metadata": {},
   "outputs": [],
   "source": [
    "data = {\n",
    "    'Month': ['Jan', 'Feb', 'Mar', 'Apr', 'May'],\n",
    "    'Product_A': [150, 200, 250, 300, 350],\n",
    "    'Product_B': [300, 250, 200, 150, 100]\n",
    "}"
   ]
  },
  {
   "cell_type": "code",
   "execution_count": 10,
   "id": "e70bc4c8-2f6d-4d80-aab2-8d4a6911a160",
   "metadata": {},
   "outputs": [],
   "source": [
    "sales_data = pd.DataFrame(data)"
   ]
  },
  {
   "cell_type": "code",
   "execution_count": 11,
   "id": "e9f5eb3e-f9d6-4e31-9f1c-53435942ace9",
   "metadata": {},
   "outputs": [],
   "source": [
    "total_sales_product_a = sales_data['Product_A'].sum()\n",
    "total_sales_product_b = sales_data['Product_B'].sum()"
   ]
  },
  {
   "cell_type": "code",
   "execution_count": 12,
   "id": "73420643-cc3e-4e0c-9fce-10615e8f051c",
   "metadata": {},
   "outputs": [
    {
     "name": "stdout",
     "output_type": "stream",
     "text": [
      "Total Sales for Product_A: 1250\n",
      "Total Sales for Product_B: 1000\n"
     ]
    }
   ],
   "source": [
    "print(\"Total Sales for Product_A:\", total_sales_product_a)\n",
    "print(\"Total Sales for Product_B:\", total_sales_product_b)"
   ]
  },
  {
   "cell_type": "code",
   "execution_count": 13,
   "id": "565140da-ba06-49ea-b63a-4e0a0b396426",
   "metadata": {},
   "outputs": [
    {
     "name": "stdout",
     "output_type": "stream",
     "text": [
      "Month with the highest sales for Product_A: May\n"
     ]
    }
   ],
   "source": [
    "month_max_sales_product_a = sales_data.loc[sales_data['Product_A'].idxmax(), 'Month']\n",
    "print(\"Month with the highest sales for Product_A:\", month_max_sales_product_a)"
   ]
  },
  {
   "cell_type": "code",
   "execution_count": 14,
   "id": "19bf9d46-0fb1-4949-9844-487868038ec5",
   "metadata": {},
   "outputs": [
    {
     "name": "stdout",
     "output_type": "stream",
     "text": [
      "  Month  Product_A  Product_B  Total_Sales\n",
      "0   Jan        150        300          450\n",
      "1   Feb        200        250          450\n",
      "2   Mar        250        200          450\n",
      "3   Apr        300        150          450\n",
      "4   May        350        100          450\n"
     ]
    }
   ],
   "source": [
    "sales_data['Total_Sales'] = sales_data['Product_A'] + sales_data['Product_B']\n",
    "print(sales_data)"
   ]
  },
  {
   "cell_type": "code",
   "execution_count": 15,
   "id": "fb36fe62-b5ce-4f57-b226-4c66ddfa952f",
   "metadata": {},
   "outputs": [
    {
     "name": "stdout",
     "output_type": "stream",
     "text": [
      "  Month  Product_A  Product_B  Total_Sales  Normalized_Product_A\n",
      "0   Jan        150        300          450              0.428571\n",
      "1   Feb        200        250          450              0.571429\n",
      "2   Mar        250        200          450              0.714286\n",
      "3   Apr        300        150          450              0.857143\n",
      "4   May        350        100          450              1.000000\n"
     ]
    }
   ],
   "source": [
    "max_sales_product_a = sales_data['Product_A'].max()\n",
    "sales_data['Normalized_Product_A'] = sales_data['Product_A'] / max_sales_product_a\n",
    "print(sales_data)"
   ]
  },
  {
   "cell_type": "code",
   "execution_count": 16,
   "id": "e33e6ed1-a9ce-4569-9dae-a68fb9e7b09a",
   "metadata": {},
   "outputs": [
    {
     "name": "stdout",
     "output_type": "stream",
     "text": [
      "  Month  Product_A  Product_B  Total_Sales  Normalized_Product_A\n",
      "0   Jan        150        300          450              0.428571\n",
      "1   Feb        200        250          450              0.571429\n",
      "2   Mar        250        200          450              0.714286\n",
      "3   Apr        300        150          450              0.857143\n",
      "4   May        350        100          450              1.000000\n"
     ]
    }
   ],
   "source": [
    "filtered_sales_data = sales_data[sales_data['Total_Sales'] > 400]\n",
    "print(filtered_sales_data)"
   ]
  },
  {
   "cell_type": "code",
   "execution_count": null,
   "id": "1c138140-6057-469a-bf22-dfdf45e5a513",
   "metadata": {},
   "outputs": [],
   "source": []
  }
 ],
 "metadata": {
  "kernelspec": {
   "display_name": "Python 3 (ipykernel)",
   "language": "python",
   "name": "python3"
  },
  "language_info": {
   "codemirror_mode": {
    "name": "ipython",
    "version": 3
   },
   "file_extension": ".py",
   "mimetype": "text/x-python",
   "name": "python",
   "nbconvert_exporter": "python",
   "pygments_lexer": "ipython3",
   "version": "3.11.7"
  }
 },
 "nbformat": 4,
 "nbformat_minor": 5
}
