{
 "cells": [
  {
   "cell_type": "code",
   "execution_count": 85,
   "id": "aeeca81d-62bf-4b3b-be7c-1a9e1376df4e",
   "metadata": {},
   "outputs": [],
   "source": [
    "import pandas as pd"
   ]
  },
  {
   "cell_type": "code",
   "execution_count": 87,
   "id": "56f7be3f-ded0-49d7-b562-46e89c1dc59d",
   "metadata": {},
   "outputs": [],
   "source": [
    "data = {\n",
    "    'CustomerID': [1, 2, 3, 4, 5],\n",
    "    'Name': ['John', 'Jane', None, 'Alice', 'Bob'],\n",
    "    'Purchase': [200, 300, 150, None, 500]\n",
    "}"
   ]
  },
  {
   "cell_type": "code",
   "execution_count": 89,
   "id": "30197a72-e9c7-4e08-9127-0f7a8cb0adf4",
   "metadata": {},
   "outputs": [],
   "source": [
    "customer_data = pd.DataFrame(data)"
   ]
  },
  {
   "cell_type": "code",
   "execution_count": 91,
   "id": "8b165859-1549-4dce-b18b-c83e4fd470cf",
   "metadata": {},
   "outputs": [
    {
     "name": "stdout",
     "output_type": "stream",
     "text": [
      "   CustomerID   Name  Purchase\n",
      "0           1   John     200.0\n",
      "1           2   Jane     300.0\n",
      "2           3   None     150.0\n",
      "3           4  Alice       NaN\n",
      "4           5    Bob     500.0\n"
     ]
    }
   ],
   "source": [
    "print(customer_data)"
   ]
  },
  {
   "cell_type": "code",
   "execution_count": 51,
   "id": "7ca802ed-130f-468e-b4c8-947a973ceacf",
   "metadata": {},
   "outputs": [
    {
     "data": {
      "text/plain": [
       "CustomerID    0\n",
       "Name          1\n",
       "Purchase      1\n",
       "dtype: int64"
      ]
     },
     "execution_count": 51,
     "metadata": {},
     "output_type": "execute_result"
    }
   ],
   "source": [
    "missing_value = customer_data.isnull().sum()\n",
    "missing_value"
   ]
  },
  {
   "cell_type": "code",
   "execution_count": 93,
   "id": "9b5cba89-fcc1-44eb-907a-d73e4c8e00ec",
   "metadata": {},
   "outputs": [
    {
     "name": "stderr",
     "output_type": "stream",
     "text": [
      "C:\\Users\\HDC0422085\\AppData\\Local\\Temp\\ipykernel_4988\\4187985191.py:1: FutureWarning: A value is trying to be set on a copy of a DataFrame or Series through chained assignment using an inplace method.\n",
      "The behavior will change in pandas 3.0. This inplace method will never work because the intermediate object on which we are setting values always behaves as a copy.\n",
      "\n",
      "For example, when doing 'df[col].method(value, inplace=True)', try using 'df.method({col: value}, inplace=True)' or df[col] = df[col].method(value) instead, to perform the operation inplace on the original object.\n",
      "\n",
      "\n",
      "  customer_data['Name'].fillna('unknown',inplace=True)\n"
     ]
    },
    {
     "data": {
      "text/html": [
       "<div>\n",
       "<style scoped>\n",
       "    .dataframe tbody tr th:only-of-type {\n",
       "        vertical-align: middle;\n",
       "    }\n",
       "\n",
       "    .dataframe tbody tr th {\n",
       "        vertical-align: top;\n",
       "    }\n",
       "\n",
       "    .dataframe thead th {\n",
       "        text-align: right;\n",
       "    }\n",
       "</style>\n",
       "<table border=\"1\" class=\"dataframe\">\n",
       "  <thead>\n",
       "    <tr style=\"text-align: right;\">\n",
       "      <th></th>\n",
       "      <th>CustomerID</th>\n",
       "      <th>Name</th>\n",
       "      <th>Purchase</th>\n",
       "    </tr>\n",
       "  </thead>\n",
       "  <tbody>\n",
       "    <tr>\n",
       "      <th>0</th>\n",
       "      <td>1</td>\n",
       "      <td>John</td>\n",
       "      <td>200.0</td>\n",
       "    </tr>\n",
       "    <tr>\n",
       "      <th>1</th>\n",
       "      <td>2</td>\n",
       "      <td>Jane</td>\n",
       "      <td>300.0</td>\n",
       "    </tr>\n",
       "    <tr>\n",
       "      <th>2</th>\n",
       "      <td>3</td>\n",
       "      <td>unknown</td>\n",
       "      <td>150.0</td>\n",
       "    </tr>\n",
       "    <tr>\n",
       "      <th>3</th>\n",
       "      <td>4</td>\n",
       "      <td>Alice</td>\n",
       "      <td>NaN</td>\n",
       "    </tr>\n",
       "    <tr>\n",
       "      <th>4</th>\n",
       "      <td>5</td>\n",
       "      <td>Bob</td>\n",
       "      <td>500.0</td>\n",
       "    </tr>\n",
       "  </tbody>\n",
       "</table>\n",
       "</div>"
      ],
      "text/plain": [
       "   CustomerID     Name  Purchase\n",
       "0           1     John     200.0\n",
       "1           2     Jane     300.0\n",
       "2           3  unknown     150.0\n",
       "3           4    Alice       NaN\n",
       "4           5      Bob     500.0"
      ]
     },
     "execution_count": 93,
     "metadata": {},
     "output_type": "execute_result"
    }
   ],
   "source": [
    "customer_data['Name'].fillna('unknown',inplace=True)\n",
    "customer_data"
   ]
  },
  {
   "cell_type": "code",
   "execution_count": 95,
   "id": "08e8fc36-c53b-46cb-a3b4-9eae5c5f9f9f",
   "metadata": {},
   "outputs": [
    {
     "data": {
      "text/plain": [
       "287.5"
      ]
     },
     "execution_count": 95,
     "metadata": {},
     "output_type": "execute_result"
    }
   ],
   "source": [
    "median_value = customer_data['Purchase'].mean()\n",
    "median_value"
   ]
  },
  {
   "cell_type": "code",
   "execution_count": 97,
   "id": "c40bfe18-8235-46c0-8e7d-9a12aa7f6a4e",
   "metadata": {},
   "outputs": [],
   "source": [
    "customer_data['Purchase']=customer_data['Purchase'].fillna(median_value)"
   ]
  },
  {
   "cell_type": "code",
   "execution_count": 75,
   "id": "9a7c735d-64c9-4940-9056-19d293bc28ab",
   "metadata": {},
   "outputs": [
    {
     "name": "stdout",
     "output_type": "stream",
     "text": [
      "nan\n"
     ]
    }
   ],
   "source": [
    "print(median_value)"
   ]
  },
  {
   "cell_type": "code",
   "execution_count": 99,
   "id": "4301b62f-1eb2-4e55-8cd4-8f8b5822bfd0",
   "metadata": {},
   "outputs": [
    {
     "data": {
      "text/plain": [
       "0    200.0\n",
       "1    300.0\n",
       "2    150.0\n",
       "3    287.5\n",
       "4    500.0\n",
       "Name: Purchase, dtype: float64"
      ]
     },
     "execution_count": 99,
     "metadata": {},
     "output_type": "execute_result"
    }
   ],
   "source": [
    "customer_data['Purchase']"
   ]
  },
  {
   "cell_type": "code",
   "execution_count": 101,
   "id": "43310c30-a3af-4ef2-8e72-77cb96330a6d",
   "metadata": {},
   "outputs": [
    {
     "name": "stdout",
     "output_type": "stream",
     "text": [
      "   CustomerID     Name  Purchase\n",
      "0           1     John     200.0\n",
      "1           2     Jane     300.0\n",
      "2           3  unknown     150.0\n",
      "3           4    Alice     287.5\n",
      "4           5      Bob     500.0\n"
     ]
    }
   ],
   "source": [
    "customer_data.dropna(inplace=True)\n",
    "print(customer_data)"
   ]
  },
  {
   "cell_type": "code",
   "execution_count": 103,
   "id": "a04349aa-3cf5-4bd8-a7f6-7dc1ad53e323",
   "metadata": {},
   "outputs": [
    {
     "name": "stdout",
     "output_type": "stream",
     "text": [
      "   CustomerID  Name  Purchase\n",
      "1           2  Jane     300.0\n",
      "4           5   Bob     500.0\n"
     ]
    }
   ],
   "source": [
    "filtered_customers = customer_data[customer_data['Purchase'] > median_value]\n",
    "print(filtered_customers)"
   ]
  },
  {
   "cell_type": "code",
   "execution_count": 105,
   "id": "4369b831-8cd8-49c6-99cb-dfecb63afde4",
   "metadata": {},
   "outputs": [],
   "source": [
    "# 4 Series Operations: Temperature Data"
   ]
  },
  {
   "cell_type": "code",
   "execution_count": 107,
   "id": "8f7e2dd0-8370-46e2-af37-947455d87582",
   "metadata": {},
   "outputs": [
    {
     "data": {
      "text/plain": [
       "(24.6, 24.5, 10.266666666666666)"
      ]
     },
     "execution_count": 107,
     "metadata": {},
     "output_type": "execute_result"
    }
   ],
   "source": [
    "temperature = pd.Series([23, 21, 20, 25, 27, 30, 28, 22, 24, 26])\n",
    "mean_temperature = temperature.mean()\n",
    "median_temperature = temperature.median()\n",
    "variance_temperature = temperature.var()\n",
    "mean_temperature, median_temperature, variance_temperature\n"
   ]
  },
  {
   "cell_type": "code",
   "execution_count": 109,
   "id": "9381bea3-dbfc-41e1-92b8-a5ca8aad1bb8",
   "metadata": {},
   "outputs": [
    {
     "data": {
      "text/plain": [
       "0    below\n",
       "1    below\n",
       "2    below\n",
       "3    above\n",
       "4    above\n",
       "5    above\n",
       "6    above\n",
       "7    below\n",
       "8    below\n",
       "9    above\n",
       "dtype: object"
      ]
     },
     "execution_count": 109,
     "metadata": {},
     "output_type": "execute_result"
    }
   ],
   "source": [
    "above_below_mean = temperature.apply(lambda x: 'above' if x > mean_temperature else 'below')\n",
    "above_below_mean"
   ]
  },
  {
   "cell_type": "code",
   "execution_count": 111,
   "id": "cc951218-13ed-43e5-b550-5f0590bec07a",
   "metadata": {},
   "outputs": [
    {
     "data": {
      "text/plain": [
       "0    296.15\n",
       "1    294.15\n",
       "2    293.15\n",
       "3    298.15\n",
       "4    300.15\n",
       "5    303.15\n",
       "6    301.15\n",
       "7    295.15\n",
       "8    297.15\n",
       "9    299.15\n",
       "dtype: float64"
      ]
     },
     "execution_count": 111,
     "metadata": {},
     "output_type": "execute_result"
    }
   ],
   "source": [
    "temperature_kelvin = temperature + 273.15\n",
    "temperature_kelvin"
   ]
  },
  {
   "cell_type": "code",
   "execution_count": 113,
   "id": "8f206f0a-bd6d-4c38-8310-6057d887ceac",
   "metadata": {},
   "outputs": [
    {
     "data": {
      "text/plain": [
       "0          NaN\n",
       "1          NaN\n",
       "2    21.333333\n",
       "3    22.000000\n",
       "4    24.000000\n",
       "5    27.333333\n",
       "6    28.333333\n",
       "7    26.666667\n",
       "8    24.666667\n",
       "9    24.000000\n",
       "dtype: float64"
      ]
     },
     "execution_count": 113,
     "metadata": {},
     "output_type": "execute_result"
    }
   ],
   "source": [
    "rolling_mean = temperature.rolling(window=3).mean()\n",
    "rolling_mean"
   ]
  },
  {
   "cell_type": "code",
   "execution_count": 115,
   "id": "d7859814-b8bf-4525-b933-e531232e19c8",
   "metadata": {},
   "outputs": [
    {
     "data": {
      "text/plain": [
       "1    21\n",
       "2    20\n",
       "5    30\n",
       "6    28\n",
       "dtype: int64"
      ]
     },
     "execution_count": 115,
     "metadata": {},
     "output_type": "execute_result"
    }
   ],
   "source": [
    "std_dev_temperature = temperature.std()\n",
    "filtered_temperatures = temperature[(temperature < (mean_temperature - std_dev_temperature)) | \n",
    "                                    (temperature > (mean_temperature + std_dev_temperature))]\n",
    "filtered_temperatures"
   ]
  },
  {
   "cell_type": "code",
   "execution_count": 117,
   "id": "39ced2f0-fcae-4322-a886-d647faa130be",
   "metadata": {},
   "outputs": [],
   "source": [
    "# merging dataframes: product orders"
   ]
  },
  {
   "cell_type": "code",
   "execution_count": 119,
   "id": "0d577026-ae2e-4326-b04f-c167fad659a3",
   "metadata": {},
   "outputs": [
    {
     "name": "stdout",
     "output_type": "stream",
     "text": [
      "   OrderID  CustomerID Product  Quantity     Name     Location\n",
      "0        1         101       A         2    Alice     New York\n",
      "1        2         102       B         1      Bob  Los Angeles\n",
      "2        3         103       A         4  Charlie      Chicago\n",
      "3        4         104       C         2    David      Houston\n",
      "4        5         101       B         3    Alice     New York\n"
     ]
    }
   ],
   "source": [
    "orders = pd.DataFrame({\n",
    "    'OrderID': [1, 2, 3, 4, 5],\n",
    "    'CustomerID': [101, 102, 103, 104, 101],\n",
    "    'Product': ['A', 'B', 'A', 'C', 'B'],\n",
    "    'Quantity': [2, 1, 4, 2, 3]\n",
    "})\n",
    "\n",
    "customers = pd.DataFrame({\n",
    "    'CustomerID': [101, 102, 103, 104],\n",
    "    'Name': ['Alice', 'Bob', 'Charlie', 'David'],\n",
    "    'Location': ['New York', 'Los Angeles', 'Chicago', 'Houston']\n",
    "})\n",
    "\n",
    "merged_df = pd.merge(orders, customers, on='CustomerID')\n",
    "print(merged_df)"
   ]
  },
  {
   "cell_type": "code",
   "execution_count": 121,
   "id": "7c0c1800-8090-4e67-acf1-025ab9062cd4",
   "metadata": {},
   "outputs": [
    {
     "name": "stdout",
     "output_type": "stream",
     "text": [
      "Location\n",
      "Chicago        4\n",
      "Houston        2\n",
      "Los Angeles    1\n",
      "New York       5\n",
      "Name: Quantity, dtype: int64\n"
     ]
    }
   ],
   "source": [
    "location_totals = merged_df.groupby('Location')['Quantity'].sum()\n",
    "print(location_totals)"
   ]
  },
  {
   "cell_type": "code",
   "execution_count": 123,
   "id": "f23deb42-4e7a-4d4a-93bb-1f5906fc2986",
   "metadata": {},
   "outputs": [
    {
     "name": "stdout",
     "output_type": "stream",
     "text": [
      "4\n"
     ]
    }
   ],
   "source": [
    "maxing_value = merged_df['Quantity'].max()\n",
    "print(maxing_value)"
   ]
  },
  {
   "cell_type": "code",
   "execution_count": null,
   "id": "040ed09a-674b-4f1d-835c-80627d832386",
   "metadata": {},
   "outputs": [],
   "source": []
  }
 ],
 "metadata": {
  "kernelspec": {
   "display_name": "Python 3 (ipykernel)",
   "language": "python",
   "name": "python3"
  },
  "language_info": {
   "codemirror_mode": {
    "name": "ipython",
    "version": 3
   },
   "file_extension": ".py",
   "mimetype": "text/x-python",
   "name": "python",
   "nbconvert_exporter": "python",
   "pygments_lexer": "ipython3",
   "version": "3.12.4"
  }
 },
 "nbformat": 4,
 "nbformat_minor": 5
}
